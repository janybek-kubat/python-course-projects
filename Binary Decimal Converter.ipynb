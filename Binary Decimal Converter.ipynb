{
 "cells": [
  {
   "cell_type": "code",
   "execution_count": 18,
   "id": "91d26397-2220-45e8-8ac3-f6333a9d2eee",
   "metadata": {},
   "outputs": [
    {
     "data": {
      "text/plain": [
       "'0b1010'"
      ]
     },
     "execution_count": 18,
     "metadata": {},
     "output_type": "execute_result"
    }
   ],
   "source": [
    "bin(10)\n"
   ]
  },
  {
   "cell_type": "code",
   "execution_count": 2,
   "id": "d2dbcc5a-70ef-4e5e-915d-c3fb616222b6",
   "metadata": {},
   "outputs": [],
   "source": [
    "import math"
   ]
  },
  {
   "cell_type": "code",
   "execution_count": 102,
   "id": "7a333640-e045-4118-85b8-bec74669a21d",
   "metadata": {},
   "outputs": [],
   "source": [
    "my_str = b\"\"\n",
    "my_str += b\"011\""
   ]
  },
  {
   "cell_type": "code",
   "execution_count": 107,
   "id": "0c18cc9a-ded6-4a6c-a9df-dc3e5f769c2c",
   "metadata": {},
   "outputs": [
    {
     "data": {
      "text/plain": [
       "48"
      ]
     },
     "execution_count": 107,
     "metadata": {},
     "output_type": "execute_result"
    }
   ],
   "source": [
    "my_str[0]"
   ]
  },
  {
   "cell_type": "code",
   "execution_count": 117,
   "id": "9ec31f5c-20e1-4d8f-ad27-c4d015bbc0aa",
   "metadata": {},
   "outputs": [],
   "source": [
    "def converter(n):\n",
    "    if type(n) == int:\n",
    "        bin_list = []\n",
    "        if n == 0:\n",
    "            return b\"0\"\n",
    "        while n > 0:\n",
    "            bin_list.append(b\"1\" if n&1 else b\"0\")\n",
    "            n >>= 1\n",
    "        bin_list.reverse()\n",
    "        return b\"\".join(bin_list)\n",
    "    elif type(n) == bytes:\n",
    "        num = 0\n",
    "        for i, bit in enumerate(n):\n",
    "            my_bit = bit - 48                       # bit is returning ASCII representation of 0 or 1 48 and 49 respectively\n",
    "            num += my_bit << (len(n)-i-1)           # shifting 1 or 0 to left by Nth value measn (1 or 0) * 2**N\n",
    "        return num        \n",
    "        "
   ]
  },
  {
   "cell_type": "code",
   "execution_count": 118,
   "id": "c55c4014-0d47-417b-a726-8f5fe92dd5b1",
   "metadata": {},
   "outputs": [
    {
     "data": {
      "text/plain": [
       "7"
      ]
     },
     "execution_count": 118,
     "metadata": {},
     "output_type": "execute_result"
    }
   ],
   "source": [
    "converter(b\"0111\")"
   ]
  },
  {
   "cell_type": "code",
   "execution_count": null,
   "id": "dea3a51f-f710-4235-943a-e6b33f8cb3da",
   "metadata": {},
   "outputs": [],
   "source": []
  }
 ],
 "metadata": {
  "kernelspec": {
   "display_name": "Python [conda env:base] *",
   "language": "python",
   "name": "conda-base-py"
  },
  "language_info": {
   "codemirror_mode": {
    "name": "ipython",
    "version": 3
   },
   "file_extension": ".py",
   "mimetype": "text/x-python",
   "name": "python",
   "nbconvert_exporter": "python",
   "pygments_lexer": "ipython3",
   "version": "3.12.3"
  }
 },
 "nbformat": 4,
 "nbformat_minor": 5
}
