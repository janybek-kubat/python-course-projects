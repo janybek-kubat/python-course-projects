{
 "cells": [
  {
   "cell_type": "code",
   "execution_count": 9,
   "id": "f5a5d01a-de8e-4b89-8a04-7d745a695dfb",
   "metadata": {},
   "outputs": [
    {
     "name": "stdin",
     "output_type": "stream",
     "text": [
      "Enter a number : 10\n"
     ]
    },
    {
     "name": "stdout",
     "output_type": "stream",
     "text": [
      "1\n",
      "2\n",
      "Fizz\n",
      "4\n",
      "Buzz\n",
      "Fizz\n",
      "7\n",
      "8\n",
      "Fizz\n",
      "Buzz\n"
     ]
    }
   ],
   "source": [
    "while True:\n",
    "    try:\n",
    "        N = int(input(\"Enter a number :\"))\n",
    "        if N <= 0:\n",
    "            print(\"Enter a value bigger then 0\")\n",
    "            continue\n",
    "        else:\n",
    "            break\n",
    "    except ValueError:\n",
    "        print(\"Enter number only!\")\n",
    "\n",
    "for i in range(1, N + 1):\n",
    "    output = \"\"\n",
    "    if i%3 == 0:\n",
    "        output += \"Fizz\"\n",
    "    if i%5 == 0:\n",
    "        output += \"Buzz\"\n",
    "    print(output or i) # should output \"i\" if output is empty string.\n"
   ]
  },
  {
   "cell_type": "code",
   "execution_count": null,
   "id": "43114f4e-17e1-485a-9da5-1238fe47cada",
   "metadata": {},
   "outputs": [],
   "source": []
  }
 ],
 "metadata": {
  "kernelspec": {
   "display_name": "Python [conda env:base] *",
   "language": "python",
   "name": "conda-base-py"
  },
  "language_info": {
   "codemirror_mode": {
    "name": "ipython",
    "version": 3
   },
   "file_extension": ".py",
   "mimetype": "text/x-python",
   "name": "python",
   "nbconvert_exporter": "python",
   "pygments_lexer": "ipython3",
   "version": "3.12.3"
  }
 },
 "nbformat": 4,
 "nbformat_minor": 5
}
