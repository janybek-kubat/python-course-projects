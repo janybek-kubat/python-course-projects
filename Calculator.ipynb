{
 "cells": [
  {
   "cell_type": "code",
   "execution_count": 48,
   "id": "219a8bca-f160-49d2-a3c3-d89ab06fe611",
   "metadata": {},
   "outputs": [],
   "source": [
    "import math\n",
    "def addition(*args):\n",
    "    result = 0\n",
    "    for arg in args:\n",
    "        result += arg\n",
    "    return result\n",
    "    \n",
    "def substraction(a, *args):\n",
    "    result =  a\n",
    "    for arg in args:\n",
    "        result -= arg\n",
    "    return result\n",
    "\n",
    "def multiplication(*args):\n",
    "    result = 1\n",
    "    for arg in args:\n",
    "        result *= arg\n",
    "    return result\n",
    "\n",
    "def division(a, *args):\n",
    "    result = a\n",
    "    try:\n",
    "        for arg in args:\n",
    "            result /= arg\n",
    "        return result\n",
    "    except ZeroDivisionError:\n",
    "        print(\"Zero division error\")\n",
    "        raise\n"
   ]
  },
  {
   "cell_type": "code",
   "execution_count": 50,
   "id": "24aaebd9-0266-481f-8b82-28932c5c9cab",
   "metadata": {},
   "outputs": [
    {
     "data": {
      "text/plain": [
       "6.0"
      ]
     },
     "execution_count": 50,
     "metadata": {},
     "output_type": "execute_result"
    }
   ],
   "source": [
    "division(6,1)\n"
   ]
  },
  {
   "cell_type": "code",
   "execution_count": null,
   "id": "1c5a4458-25a6-49e1-8bb9-0739a0673154",
   "metadata": {},
   "outputs": [],
   "source": []
  }
 ],
 "metadata": {
  "kernelspec": {
   "display_name": "Python [conda env:base] *",
   "language": "python",
   "name": "conda-base-py"
  },
  "language_info": {
   "codemirror_mode": {
    "name": "ipython",
    "version": 3
   },
   "file_extension": ".py",
   "mimetype": "text/x-python",
   "name": "python",
   "nbconvert_exporter": "python",
   "pygments_lexer": "ipython3",
   "version": "3.12.3"
  }
 },
 "nbformat": 4,
 "nbformat_minor": 5
}
