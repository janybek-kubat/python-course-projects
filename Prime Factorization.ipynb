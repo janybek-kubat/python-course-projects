{
 "cells": [
  {
   "cell_type": "code",
   "execution_count": 74,
   "id": "5b5b5c1d-d5a9-4c3f-954c-024c278c571b",
   "metadata": {},
   "outputs": [
    {
     "name": "stdin",
     "output_type": "stream",
     "text": [
      "Enter a number :  55544\n"
     ]
    },
    {
     "name": "stdout",
     "output_type": "stream",
     "text": [
      "[2, 2, 2, 53, 131]\n"
     ]
    }
   ],
   "source": [
    "def modding(n, factor , primes):\n",
    "    if n == 1:\n",
    "        return primes\n",
    "    if n%factor == 0:\n",
    "        n = int(n/factor)\n",
    "        primes.append(factor)\n",
    "        return modding(n, factor, primes)\n",
    "    else:\n",
    "        if factor == 2:\n",
    "            next_factor = 3\n",
    "        else:\n",
    "            next_factor = factor + 2\n",
    "            \n",
    "        return modding(n, next_factor, primes) \n",
    "        \n",
    "my_prime_factors = []\n",
    "while True:\n",
    "    try:\n",
    "        N = int(input(\"Enter a number : \"))\n",
    "        if N <= 0:\n",
    "            print(\"Enter positive number greater than 0\")\n",
    "            continue\n",
    "       \n",
    "        break\n",
    "    except ValueError:\n",
    "        print(\"Enter only a integer numbers\")\n",
    "\n",
    "\n",
    "modding(N, 2, my_prime_factors)\n",
    "print(my_prime_factors)"
   ]
  },
  {
   "cell_type": "markdown",
   "id": "f5ce86aa-6504-42b1-8031-707c8fd925e3",
   "metadata": {},
   "source": [
    "With a big numbers the code above can reach the recurive limit... so for bigger numbers it is better to use iterative approach\n"
   ]
  },
  {
   "cell_type": "code",
   "execution_count": 89,
   "id": "3617d2ea-9ffe-450a-af63-881f6b761406",
   "metadata": {},
   "outputs": [
    {
     "name": "stdin",
     "output_type": "stream",
     "text": [
      "Enter a number :  100000000\n"
     ]
    },
    {
     "name": "stdout",
     "output_type": "stream",
     "text": [
      "[2, 2, 2, 2, 2, 2, 2, 2, 5, 5, 5, 5, 5, 5, 5, 5]\n"
     ]
    }
   ],
   "source": [
    "def factorization(n):\n",
    "    primes = []\n",
    "    factor = 2\n",
    "    while n > 1:\n",
    "        if n%factor == 0:\n",
    "            primes.append(factor)\n",
    "            n = n//factor\n",
    "        else:\n",
    "            if factor == 2:\n",
    "                factor = 3\n",
    "            else:\n",
    "                factor += 2\n",
    "                \n",
    "    return primes\n",
    "    \n",
    "while True:\n",
    "    try:\n",
    "        N = int(input(\"Enter a number : \"))\n",
    "        if N <= 0:\n",
    "            print(\"Enter positive number greater than 0\")\n",
    "            continue\n",
    "       \n",
    "        break\n",
    "    except ValueError:\n",
    "        print(\"Enter only a integer numbers\")\n",
    "\n",
    "\n",
    "\n",
    "print(factorization(N))\n"
   ]
  },
  {
   "cell_type": "code",
   "execution_count": null,
   "id": "b3dbb235-3030-4202-a9a4-a89afa3b86bc",
   "metadata": {},
   "outputs": [],
   "source": [
    "\n"
   ]
  }
 ],
 "metadata": {
  "kernelspec": {
   "display_name": "Python [conda env:base] *",
   "language": "python",
   "name": "conda-base-py"
  },
  "language_info": {
   "codemirror_mode": {
    "name": "ipython",
    "version": 3
   },
   "file_extension": ".py",
   "mimetype": "text/x-python",
   "name": "python",
   "nbconvert_exporter": "python",
   "pygments_lexer": "ipython3",
   "version": "3.12.3"
  }
 },
 "nbformat": 4,
 "nbformat_minor": 5
}
