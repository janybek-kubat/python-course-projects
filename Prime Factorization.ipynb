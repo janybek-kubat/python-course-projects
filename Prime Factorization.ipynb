{
 "cells": [
  {
   "cell_type": "code",
   "execution_count": 56,
   "id": "4064f675-7044-4310-bfca-0cd2d0909ab1",
   "metadata": {},
   "outputs": [
    {
     "data": {
      "text/plain": [
       "[2, 3, 37]"
      ]
     },
     "execution_count": 56,
     "metadata": {},
     "output_type": "execute_result"
    }
   ],
   "source": [
    "def isPrime(n): # prime number is number that can only be divided by 1 and by itself without any reminders\n",
    "    if n < 2: #edge case check for numbers 1 , 0 and negatives \n",
    "        return False\n",
    "    if n == 2:\n",
    "        return True \n",
    "    if n%2 == 0:\n",
    "        return False # prevent ever looping even numbers as they are not a prime numbers\n",
    "    limit = int(n**0.5) # it is enough to test numbers up to sqrt(n) to find a factor of n \n",
    "    for i in range(3, limit + 1):\n",
    "        if n%i == 0:\n",
    "            return False\n",
    "    return True\n",
    "    \n",
    "def modding(n, factor , primes):\n",
    "    if n == 1:\n",
    "        return primes\n",
    "    if isPrime(factor) and n%factor == 0:\n",
    "        n = int(n/factor)\n",
    "        primes.append(factor)\n",
    "        return modding(n, factor, primes)\n",
    "    else:\n",
    "        return modding(n, factor + 1, primes) \n",
    "\n",
    "            \n",
    "my_list = []\n",
    "finished = False\n",
    "N = 222\n",
    "modding(N, 2, my_list)\n",
    "my_list"
   ]
  },
  {
   "cell_type": "code",
   "execution_count": 63,
   "id": "5b5b5c1d-d5a9-4c3f-954c-024c278c571b",
   "metadata": {},
   "outputs": [
    {
     "name": "stdin",
     "output_type": "stream",
     "text": [
      "Enter a number :  0\n"
     ]
    },
    {
     "name": "stdout",
     "output_type": "stream",
     "text": [
      "Enter positive number greater than 0\n"
     ]
    },
    {
     "name": "stdin",
     "output_type": "stream",
     "text": [
      "Enter a number :  100\n"
     ]
    },
    {
     "name": "stdout",
     "output_type": "stream",
     "text": [
      "[2, 2, 5, 5]\n"
     ]
    }
   ],
   "source": [
    "def isPrime(n): # prime number is number that can only be divided by 1 and by itself without any reminders\n",
    "    if n < 2: #edge case check for numbers 1 , 0 and negatives \n",
    "        return False\n",
    "    if n == 2:\n",
    "        return True \n",
    "    if n%2 == 0:\n",
    "        return False # prevent ever looping even numbers as they are not a prime numbers\n",
    "    limit = int(n**0.5) # it is enough to test numbers up to sqrt(n) to find a factor of n \n",
    "    for i in range(3, limit + 1):\n",
    "        if n%i == 0:\n",
    "            return False\n",
    "    return True\n",
    "    \n",
    "                        \n",
    "def modding(n, factor , primes):\n",
    "    if n == 1:\n",
    "        return primes\n",
    "    if isPrime(factor) and n%factor == 0:\n",
    "        n = int(n/factor)\n",
    "        primes.append(factor)\n",
    "        return modding(n, factor, primes)\n",
    "    else:\n",
    "        return modding(n, factor + 1, primes) \n",
    "        \n",
    "my_prime_factors = []\n",
    "while True:\n",
    "    try:\n",
    "        N = int(input(\"Enter a number : \"))\n",
    "        if N <= 0:\n",
    "            print(\"Enter positive number greater than 0\")\n",
    "            continue\n",
    "       \n",
    "        break\n",
    "    except ValueError:\n",
    "        print(\"Enter only a integer numbers\")\n",
    "\n",
    "\n",
    "modding(N, 2, my_prime_factors)\n",
    "print(my_prime_factors)"
   ]
  },
  {
   "cell_type": "code",
   "execution_count": null,
   "id": "73b7830d-9396-4a7c-8a2d-2f816baa21c4",
   "metadata": {},
   "outputs": [],
   "source": []
  }
 ],
 "metadata": {
  "kernelspec": {
   "display_name": "Python [conda env:base] *",
   "language": "python",
   "name": "conda-base-py"
  },
  "language_info": {
   "codemirror_mode": {
    "name": "ipython",
    "version": 3
   },
   "file_extension": ".py",
   "mimetype": "text/x-python",
   "name": "python",
   "nbconvert_exporter": "python",
   "pygments_lexer": "ipython3",
   "version": "3.12.3"
  }
 },
 "nbformat": 4,
 "nbformat_minor": 5
}
