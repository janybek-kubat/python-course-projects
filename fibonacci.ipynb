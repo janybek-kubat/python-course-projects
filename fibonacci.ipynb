{
 "cells": [
  {
   "cell_type": "markdown",
   "id": "fa1e45b4-b63b-4aa4-8ab3-12682c11dce9",
   "metadata": {},
   "source": [
    "Fibonacci Sequence - Enter a number and have the program generate the Fibonacci sequence to that number or to the Nth number."
   ]
  },
  {
   "cell_type": "code",
   "execution_count": 7,
   "id": "cbd6d393-5048-40ac-b899-946ffcbc118b",
   "metadata": {},
   "outputs": [
    {
     "name": "stdin",
     "output_type": "stream",
     "text": [
      "Enter the Nth number to generate Fibonacci sequence:  15\n"
     ]
    },
    {
     "name": "stdout",
     "output_type": "stream",
     "text": [
      "[0, 1, 1, 2, 3, 5, 8, 13, 21, 34, 55, 89, 144, 233, 377]\n"
     ]
    }
   ],
   "source": [
    "def fib_gen(n):\n",
    "    a, b = 0, 1\n",
    "    for _ in range(n):\n",
    "        yield a\n",
    "        a, b = b, a + b\n",
    "        \n",
    "while True:\n",
    "    try:\n",
    "        N = int(input(\"Enter the Nth number to generate Fibonacci sequence: \"))\n",
    "        if N < 0:\n",
    "            print(\"Please Enter only Positive numbers\")\n",
    "            continue\n",
    "        break\n",
    "    except ValueError:\n",
    "        print(\"Please Enter only numbers\")\n",
    "\n",
    "print(list(fib_gen(N)))"
   ]
  },
  {
   "cell_type": "code",
   "execution_count": null,
   "id": "7165ae9e-b51d-4647-8d9a-ee20a259f93c",
   "metadata": {},
   "outputs": [],
   "source": []
  }
 ],
 "metadata": {
  "kernelspec": {
   "display_name": "Python [conda env:base] *",
   "language": "python",
   "name": "conda-base-py"
  },
  "language_info": {
   "codemirror_mode": {
    "name": "ipython",
    "version": 3
   },
   "file_extension": ".py",
   "mimetype": "text/x-python",
   "name": "python",
   "nbconvert_exporter": "python",
   "pygments_lexer": "ipython3",
   "version": "3.12.7"
  }
 },
 "nbformat": 4,
 "nbformat_minor": 5
}
